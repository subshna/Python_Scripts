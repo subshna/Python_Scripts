{
 "cells": [
  {
   "cell_type": "code",
   "execution_count": null,
   "metadata": {},
   "outputs": [],
   "source": [
    "# Sorted function"
   ]
  },
  {
   "cell_type": "code",
   "execution_count": 9,
   "metadata": {},
   "outputs": [
    {
     "data": {
      "text/plain": [
       "['a', 'b', 'r', 't', 'y']"
      ]
     },
     "execution_count": 9,
     "metadata": {},
     "output_type": "execute_result"
    }
   ],
   "source": [
    "alp=['a','y','t','r','b']\n",
    "sorted(alp, key=lambda val: val.split()[-1])"
   ]
  },
  {
   "cell_type": "code",
   "execution_count": 8,
   "metadata": {},
   "outputs": [
    {
     "data": {
      "text/plain": [
       "True"
      ]
     },
     "execution_count": 8,
     "metadata": {},
     "output_type": "execute_result"
    }
   ],
   "source": [
    "# Callable\n",
    "def is_even(x):\n",
    "    return x % 2 == 0\n",
    "callable(is_even)"
   ]
  },
  {
   "cell_type": "code",
   "execution_count": 10,
   "metadata": {},
   "outputs": [
    {
     "name": "stdout",
     "output_type": "stream",
     "text": [
      "(3, 4, 5, 6)\n",
      "<type 'tuple'>\n"
     ]
    }
   ],
   "source": [
    "# Extended formal Arguments\n",
    "def hypervol(*args):\n",
    "    print args\n",
    "    print(type(args))\n",
    "    \n",
    "hypervol(3,4,5,6)"
   ]
  },
  {
   "cell_type": "code",
   "execution_count": 16,
   "metadata": {},
   "outputs": [
    {
     "data": {
      "text/plain": [
       "8"
      ]
     },
     "execution_count": 16,
     "metadata": {},
     "output_type": "execute_result"
    }
   ],
   "source": [
    "def hypervolume(*lengths):\n",
    "    i = iter(lengths)\n",
    "    v = next(i)\n",
    "    for length in i:\n",
    "        v *= length\n",
    "    return v\n",
    "\n",
    "hypervolume(2,4)"
   ]
  },
  {
   "cell_type": "code",
   "execution_count": 17,
   "metadata": {},
   "outputs": [
    {
     "name": "stdout",
     "output_type": "stream",
     "text": [
      "11\n",
      "12\n",
      "(13, 14)\n"
     ]
    }
   ],
   "source": [
    "def print_args(arg1, arg2, *args):\n",
    "    print arg1\n",
    "    print arg2\n",
    "    print args\n",
    "    \n",
    "t = (11,12,13,14)\n",
    "print_args(*t)"
   ]
  },
  {
   "cell_type": "code",
   "execution_count": 19,
   "metadata": {},
   "outputs": [
    {
     "name": "stdout",
     "output_type": "stream",
     "text": [
      "('r=', 21)\n",
      "('g=', 68)\n",
      "('b=', 120)\n",
      "{'alpha': 52}\n"
     ]
    }
   ],
   "source": [
    "def color(red, green, blue, **kwargs):\n",
    "    print ('r=', red)\n",
    "    print ('g=', green)\n",
    "    print ('b=', blue)\n",
    "    print (kwargs)\n",
    "    \n",
    "k = {'red':21, 'green':68, 'blue':120, 'alpha':52}\n",
    "color(**k)"
   ]
  },
  {
   "cell_type": "code",
   "execution_count": 22,
   "metadata": {},
   "outputs": [
    {
     "name": "stdout",
     "output_type": "stream",
     "text": [
      "('args=', ('ff',))\n",
      "('kwargs=', {'base': 16})\n",
      "('result=', 255)\n"
     ]
    },
    {
     "data": {
      "text/plain": [
       "255"
      ]
     },
     "execution_count": 22,
     "metadata": {},
     "output_type": "execute_result"
    }
   ],
   "source": [
    "# Foward argument\n",
    "def trace(f, *args, **kwargs):\n",
    "    print('args=', args)\n",
    "    print('kwargs=', kwargs)\n",
    "    result = f(*args, **kwargs)\n",
    "    print('result=', result)\n",
    "    return result\n",
    "\n",
    "trace(int, 'ff', base=16)"
   ]
  },
  {
   "cell_type": "code",
   "execution_count": 23,
   "metadata": {},
   "outputs": [
    {
     "data": {
      "text/plain": [
       "255"
      ]
     },
     "execution_count": 23,
     "metadata": {},
     "output_type": "execute_result"
    }
   ],
   "source": [
    "int ('ff', base=16)"
   ]
  },
  {
   "cell_type": "code",
   "execution_count": 25,
   "metadata": {},
   "outputs": [
    {
     "name": "stdout",
     "output_type": "stream",
     "text": [
      "(1, 8, 9)\n",
      "(2, 7, 0)\n",
      "(3, 6, 1)\n",
      "(4, 5, 2)\n",
      "(5, 4, 3)\n",
      "(6, 3, 4)\n",
      "(7, 2, 5)\n",
      "(8, 1, 6)\n"
     ]
    }
   ],
   "source": [
    "# Transposing table\n",
    "sunday=[1,2,3,4,5,6,7,8]\n",
    "monday=[8,7,6,5,4,3,2,1]\n",
    "Tuesday=[9,0,1,2,3,4,5,6]\n",
    "for iten in zip(sunday, monday, Tuesday):\n",
    "    print iten"
   ]
  },
  {
   "cell_type": "code",
   "execution_count": 26,
   "metadata": {},
   "outputs": [
    {
     "name": "stdout",
     "output_type": "stream",
     "text": [
      "[[1, 2, 3, 4, 5, 6, 7, 8], [8, 7, 6, 5, 4, 3, 2, 1], [9, 0, 1, 2, 3, 4, 5, 6]]\n"
     ]
    }
   ],
   "source": [
    "daily = [sunday, monday, Tuesday]\n",
    "from pprint import pprint as pp\n",
    "pp(daily)"
   ]
  },
  {
   "cell_type": "code",
   "execution_count": 27,
   "metadata": {},
   "outputs": [
    {
     "name": "stdout",
     "output_type": "stream",
     "text": [
      "(1, 8, 9)\n",
      "(2, 7, 0)\n",
      "(3, 6, 1)\n",
      "(4, 5, 2)\n",
      "(5, 4, 3)\n",
      "(6, 3, 4)\n",
      "(7, 2, 5)\n",
      "(8, 1, 6)\n"
     ]
    }
   ],
   "source": [
    "for item in zip(daily[0], daily[1], daily[2]):\n",
    "    print item"
   ]
  },
  {
   "cell_type": "code",
   "execution_count": 28,
   "metadata": {},
   "outputs": [
    {
     "name": "stdout",
     "output_type": "stream",
     "text": [
      "(1, 8, 9)\n",
      "(2, 7, 0)\n",
      "(3, 6, 1)\n",
      "(4, 5, 2)\n",
      "(5, 4, 3)\n",
      "(6, 3, 4)\n",
      "(7, 2, 5)\n",
      "(8, 1, 6)\n"
     ]
    }
   ],
   "source": [
    "for item in zip(*daily):\n",
    "    print item"
   ]
  },
  {
   "cell_type": "code",
   "execution_count": 29,
   "metadata": {},
   "outputs": [
    {
     "data": {
      "text/plain": [
       "[(1, 8, 9),\n",
       " (2, 7, 0),\n",
       " (3, 6, 1),\n",
       " (4, 5, 2),\n",
       " (5, 4, 3),\n",
       " (6, 3, 4),\n",
       " (7, 2, 5),\n",
       " (8, 1, 6)]"
      ]
     },
     "execution_count": 29,
     "metadata": {},
     "output_type": "execute_result"
    }
   ],
   "source": [
    "list(zip(*daily))"
   ]
  },
  {
   "cell_type": "code",
   "execution_count": 7,
   "metadata": {},
   "outputs": [],
   "source": [
    "#Local Functions\n",
    "def sortbylastletter(strings):\n",
    "    def lastletters(s):\n",
    "        return s[-1]\n",
    "    return sorted(strings, key=lastletters)"
   ]
  },
  {
   "cell_type": "code",
   "execution_count": 8,
   "metadata": {},
   "outputs": [
    {
     "data": {
      "text/plain": [
       "['a', 'from', 'heelo']"
      ]
     },
     "execution_count": 8,
     "metadata": {},
     "output_type": "execute_result"
    }
   ],
   "source": [
    "sortbylastletter(['heelo', 'from', 'a'])"
   ]
  },
  {
   "cell_type": "code",
   "execution_count": 11,
   "metadata": {},
   "outputs": [],
   "source": [
    "#LEGB Rule\n",
    "g = 'global'\n",
    "def outer(p='param'):\n",
    "    l = 'local'\n",
    "    def inner():\n",
    "        print(g, p, l)\n",
    "    inner()"
   ]
  },
  {
   "cell_type": "code",
   "execution_count": 12,
   "metadata": {},
   "outputs": [
    {
     "name": "stdout",
     "output_type": "stream",
     "text": [
      "('global', 'param', 'local')\n"
     ]
    }
   ],
   "source": [
    "outer()"
   ]
  },
  {
   "cell_type": "code",
   "execution_count": 13,
   "metadata": {},
   "outputs": [],
   "source": [
    "#Closures\n",
    "def enclosing():\n",
    "    x = 'closed over'\n",
    "    def local_func():\n",
    "        print x\n",
    "    return local_func"
   ]
  },
  {
   "cell_type": "code",
   "execution_count": 17,
   "metadata": {},
   "outputs": [
    {
     "name": "stdout",
     "output_type": "stream",
     "text": [
      "closed over\n"
     ]
    }
   ],
   "source": [
    "lf = enclosing()\n",
    "lf()"
   ]
  },
  {
   "cell_type": "code",
   "execution_count": 18,
   "metadata": {},
   "outputs": [
    {
     "data": {
      "text/plain": [
       "(<cell at 0x049CB650: str object at 0x04955DC0>,)"
      ]
     },
     "execution_count": 18,
     "metadata": {},
     "output_type": "execute_result"
    }
   ],
   "source": [
    "lf.__closure__"
   ]
  },
  {
   "cell_type": "code",
   "execution_count": 19,
   "metadata": {},
   "outputs": [],
   "source": [
    "def raiseto(exp):\n",
    "    def raisetoexp(x):\n",
    "        return pow(x, exp)\n",
    "    return raisetoexp"
   ]
  },
  {
   "cell_type": "code",
   "execution_count": 28,
   "metadata": {},
   "outputs": [
    {
     "data": {
      "text/plain": [
       "25"
      ]
     },
     "execution_count": 28,
     "metadata": {},
     "output_type": "execute_result"
    }
   ],
   "source": [
    "square = raiseto(2)\n",
    "square(5)"
   ]
  },
  {
   "cell_type": "code",
   "execution_count": 29,
   "metadata": {},
   "outputs": [
    {
     "data": {
      "text/plain": [
       "125"
      ]
     },
     "execution_count": 29,
     "metadata": {},
     "output_type": "execute_result"
    }
   ],
   "source": [
    "cube = raiseto(3)\n",
    "cube(5)"
   ]
  },
  {
   "cell_type": "code",
   "execution_count": 30,
   "metadata": {},
   "outputs": [
    {
     "name": "stdout",
     "output_type": "stream",
     "text": [
      "global msg:  global\n",
      "enclosing msg:  enclosing\n",
      "enclosing msg:  enclosing\n",
      "global msg:  local\n"
     ]
    }
   ],
   "source": [
    "msg = 'global'\n",
    "def enclosing():\n",
    "    msg = 'enclosing'\n",
    "    def local():\n",
    "        global msg\n",
    "        msg = 'local'\n",
    "    print 'enclosing msg: ', msg\n",
    "    local()\n",
    "    print 'enclosing msg: ', msg\n",
    "\n",
    "print 'global msg: ', msg\n",
    "enclosing()\n",
    "print 'global msg: ', msg"
   ]
  },
  {
   "cell_type": "code",
   "execution_count": 33,
   "metadata": {},
   "outputs": [
    {
     "ename": "SyntaxError",
     "evalue": "invalid syntax (<ipython-input-33-62bad2f8d131>, line 7)",
     "output_type": "error",
     "traceback": [
      "\u001b[1;36m  File \u001b[1;32m\"<ipython-input-33-62bad2f8d131>\"\u001b[1;36m, line \u001b[1;32m7\u001b[0m\n\u001b[1;33m    nonlocal msg\u001b[0m\n\u001b[1;37m               ^\u001b[0m\n\u001b[1;31mSyntaxError\u001b[0m\u001b[1;31m:\u001b[0m invalid syntax\n"
     ]
    }
   ],
   "source": [
    "#nonlocal\n",
    "msg = 'global'\n",
    "def enclosing():\n",
    "    msg = 'enclosing'\n",
    "    \n",
    "    def local():\n",
    "        nonlocal msg\n",
    "        msg = 'local'\n",
    "    print 'enclosing msg: ', msg\n",
    "    local()\n",
    "    print 'enclosing msg: ', msg\n",
    "\n",
    "print 'global msg: ', msg\n",
    "enclosing()\n",
    "print 'global msg: ', msg"
   ]
  },
  {
   "cell_type": "code",
   "execution_count": 34,
   "metadata": {},
   "outputs": [
    {
     "ename": "SyntaxError",
     "evalue": "invalid syntax (<ipython-input-34-c9ee0bde0ada>, line 5)",
     "output_type": "error",
     "traceback": [
      "\u001b[1;36m  File \u001b[1;32m\"<ipython-input-34-c9ee0bde0ada>\"\u001b[1;36m, line \u001b[1;32m5\u001b[0m\n\u001b[1;33m    nonlocal lastcalled\u001b[0m\n\u001b[1;37m                      ^\u001b[0m\n\u001b[1;31mSyntaxError\u001b[0m\u001b[1;31m:\u001b[0m invalid syntax\n"
     ]
    }
   ],
   "source": [
    "# nonlocal would work only in 3.x\n",
    "import time\n",
    "def maketimer():\n",
    "    lastcalled = None\n",
    "    def elapsed():\n",
    "        nonlocal lastcalled\n",
    "        if lastcalled is None:\n",
    "            lastcalled = now\n",
    "            return now\n",
    "        result = now - lastcalled\n",
    "        lastcalled = now\n",
    "        return result\n",
    "    return elapsed"
   ]
  },
  {
   "cell_type": "code",
   "execution_count": 43,
   "metadata": {},
   "outputs": [],
   "source": [
    "#Decorators\n",
    "# modify or enhance functions without changing the definitation\n",
    "def escapeunicode(f):\n",
    "    def wrap(*args, **kwargs):\n",
    "        x = f(*args, **kwargs)\n",
    "        return ascii(x)\n",
    "    return wrap\n",
    "\n",
    "@escapeunicode\n",
    "def northerncity():\n",
    "    return 'Troms¤'"
   ]
  },
  {
   "cell_type": "code",
   "execution_count": 44,
   "metadata": {},
   "outputs": [
    {
     "ename": "NameError",
     "evalue": "global name 'ascii' is not defined",
     "output_type": "error",
     "traceback": [
      "\u001b[1;31m---------------------------------------------------------------------------\u001b[0m",
      "\u001b[1;31mNameError\u001b[0m                                 Traceback (most recent call last)",
      "\u001b[1;32m<ipython-input-44-6f6a925e0150>\u001b[0m in \u001b[0;36m<module>\u001b[1;34m()\u001b[0m\n\u001b[1;32m----> 1\u001b[1;33m \u001b[0mnortherncity\u001b[0m\u001b[1;33m(\u001b[0m\u001b[1;33m)\u001b[0m\u001b[1;33m\u001b[0m\u001b[0m\n\u001b[0m",
      "\u001b[1;32m<ipython-input-43-c84bc0f17d92>\u001b[0m in \u001b[0;36mwrap\u001b[1;34m(*args, **kwargs)\u001b[0m\n\u001b[0;32m      4\u001b[0m     \u001b[1;32mdef\u001b[0m \u001b[0mwrap\u001b[0m\u001b[1;33m(\u001b[0m\u001b[1;33m*\u001b[0m\u001b[0margs\u001b[0m\u001b[1;33m,\u001b[0m \u001b[1;33m**\u001b[0m\u001b[0mkwargs\u001b[0m\u001b[1;33m)\u001b[0m\u001b[1;33m:\u001b[0m\u001b[1;33m\u001b[0m\u001b[0m\n\u001b[0;32m      5\u001b[0m         \u001b[0mx\u001b[0m \u001b[1;33m=\u001b[0m \u001b[0mf\u001b[0m\u001b[1;33m(\u001b[0m\u001b[1;33m*\u001b[0m\u001b[0margs\u001b[0m\u001b[1;33m,\u001b[0m \u001b[1;33m**\u001b[0m\u001b[0mkwargs\u001b[0m\u001b[1;33m)\u001b[0m\u001b[1;33m\u001b[0m\u001b[0m\n\u001b[1;32m----> 6\u001b[1;33m         \u001b[1;32mreturn\u001b[0m \u001b[0mascii\u001b[0m\u001b[1;33m(\u001b[0m\u001b[0mx\u001b[0m\u001b[1;33m)\u001b[0m\u001b[1;33m\u001b[0m\u001b[0m\n\u001b[0m\u001b[0;32m      7\u001b[0m     \u001b[1;32mreturn\u001b[0m \u001b[0mwrap\u001b[0m\u001b[1;33m\u001b[0m\u001b[0m\n\u001b[0;32m      8\u001b[0m \u001b[1;33m\u001b[0m\u001b[0m\n",
      "\u001b[1;31mNameError\u001b[0m: global name 'ascii' is not defined"
     ]
    }
   ],
   "source": [
    "northerncity()"
   ]
  },
  {
   "cell_type": "code",
   "execution_count": 45,
   "metadata": {},
   "outputs": [],
   "source": [
    "class Trace:\n",
    "    def __init__(self):\n",
    "        self.enabled = True\n",
    "    \n",
    "    def __call__(self, f):\n",
    "        def wrap(*args, **kwargs):\n",
    "            if self.enabled:\n",
    "                print('Callinf {}'. format(f))\n",
    "            return f(*args, **kwargs)\n",
    "        return wrap\n",
    "    \n",
    "tracer = Trace()\n",
    "\n",
    "@tracer\n",
    "def rotatelist(l):\n",
    "    return l[1:] + [l[0]]"
   ]
  },
  {
   "cell_type": "code",
   "execution_count": 48,
   "metadata": {},
   "outputs": [
    {
     "name": "stdout",
     "output_type": "stream",
     "text": [
      "Callinf <function rotatelist at 0x049A0E30>\n"
     ]
    },
    {
     "data": {
      "text/plain": [
       "[2, 3, 1]"
      ]
     },
     "execution_count": 48,
     "metadata": {},
     "output_type": "execute_result"
    }
   ],
   "source": [
    "l = [1,2,3]\n",
    "l = rotatelist(l)\n",
    "l"
   ]
  },
  {
   "cell_type": "code",
   "execution_count": 47,
   "metadata": {},
   "outputs": [
    {
     "data": {
      "text/plain": [
       "[2, 3, 1]"
      ]
     },
     "execution_count": 47,
     "metadata": {},
     "output_type": "execute_result"
    }
   ],
   "source": []
  },
  {
   "cell_type": "code",
   "execution_count": 49,
   "metadata": {},
   "outputs": [
    {
     "data": {
      "text/plain": [
       "[3, 1, 2]"
      ]
     },
     "execution_count": 49,
     "metadata": {},
     "output_type": "execute_result"
    }
   ],
   "source": [
    "tracer.enabled = False\n",
    "l = rotatelist(l)\n",
    "l"
   ]
  },
  {
   "cell_type": "code",
   "execution_count": 1,
   "metadata": {},
   "outputs": [],
   "source": [
    "def hello():\n",
    "    \"Print a well know message\"\n",
    "    print 'Hello, World!!!'"
   ]
  },
  {
   "cell_type": "code",
   "execution_count": 3,
   "metadata": {},
   "outputs": [
    {
     "data": {
      "text/plain": [
       "'hello'"
      ]
     },
     "execution_count": 3,
     "metadata": {},
     "output_type": "execute_result"
    }
   ],
   "source": [
    "hello.__name__"
   ]
  },
  {
   "cell_type": "code",
   "execution_count": 4,
   "metadata": {},
   "outputs": [
    {
     "data": {
      "text/plain": [
       "'Print a well know message'"
      ]
     },
     "execution_count": 4,
     "metadata": {},
     "output_type": "execute_result"
    }
   ],
   "source": [
    "hello.__doc__"
   ]
  },
  {
   "cell_type": "code",
   "execution_count": 6,
   "metadata": {},
   "outputs": [
    {
     "name": "stdout",
     "output_type": "stream",
     "text": [
      "Help on function hello in module __main__:\n",
      "\n",
      "hello()\n",
      "    Print a well know message\n",
      "\n"
     ]
    }
   ],
   "source": [
    "help(hello)"
   ]
  },
  {
   "cell_type": "code",
   "execution_count": 10,
   "metadata": {},
   "outputs": [],
   "source": [
    "def noop(f):\n",
    "    def noopwrapper():\n",
    "        return f()\n",
    "    return noopwrapper\n",
    "\n",
    "@noop\n",
    "def hello():\n",
    "    \"Print a well know message\"\n",
    "    print 'Hello, World!!!'"
   ]
  },
  {
   "cell_type": "code",
   "execution_count": 11,
   "metadata": {},
   "outputs": [
    {
     "name": "stdout",
     "output_type": "stream",
     "text": [
      "Help on function noopwrapper in module __main__:\n",
      "\n",
      "noopwrapper()\n",
      "\n"
     ]
    }
   ],
   "source": [
    "help(hello)"
   ]
  },
  {
   "cell_type": "code",
   "execution_count": 12,
   "metadata": {},
   "outputs": [
    {
     "data": {
      "text/plain": [
       "'noopwrapper'"
      ]
     },
     "execution_count": 12,
     "metadata": {},
     "output_type": "execute_result"
    }
   ],
   "source": [
    "hello.__name__"
   ]
  },
  {
   "cell_type": "code",
   "execution_count": 13,
   "metadata": {},
   "outputs": [],
   "source": [
    "def noop(f):\n",
    "    def noopwrapper():\n",
    "        return f()\n",
    "    noopwrapper.__name__ = f.__name__\n",
    "    noopwrapper.__doc__ = f.__doc__\n",
    "    return noopwrapper\n",
    "\n",
    "@noop\n",
    "def hello():\n",
    "    \"Print a well know message\"\n",
    "    print 'Hello, World!!!'"
   ]
  },
  {
   "cell_type": "code",
   "execution_count": 14,
   "metadata": {},
   "outputs": [
    {
     "name": "stdout",
     "output_type": "stream",
     "text": [
      "Help on function hello in module __main__:\n",
      "\n",
      "hello()\n",
      "    Print a well know message\n",
      "\n"
     ]
    }
   ],
   "source": [
    "help(hello)"
   ]
  },
  {
   "cell_type": "code",
   "execution_count": 15,
   "metadata": {},
   "outputs": [],
   "source": [
    "#functools to wrap\n",
    "import functools\n",
    "def noop(f):\n",
    "    @functools.wraps(f)\n",
    "    def noopwrapper():\n",
    "        return f()\n",
    "    return noopwrapper\n",
    "\n",
    "@noop\n",
    "def hello():\n",
    "    \"Print a well know message\"\n",
    "    print 'Hello, World!!!'"
   ]
  },
  {
   "cell_type": "code",
   "execution_count": 16,
   "metadata": {},
   "outputs": [
    {
     "name": "stdout",
     "output_type": "stream",
     "text": [
      "Help on function hello in module __main__:\n",
      "\n",
      "hello()\n",
      "    Print a well know message\n",
      "\n"
     ]
    }
   ],
   "source": [
    "help(hello)"
   ]
  },
  {
   "cell_type": "code",
   "execution_count": 17,
   "metadata": {},
   "outputs": [],
   "source": [
    "#Properties and class methods\n",
    "class ShippingContainer:\n",
    "    def __init__(self, owner_code, contents):\n",
    "        self.owner_code = owner_code\n",
    "        self.contents = contents"
   ]
  },
  {
   "cell_type": "code",
   "execution_count": 19,
   "metadata": {},
   "outputs": [
    {
     "data": {
      "text/plain": [
       "'Books'"
      ]
     },
     "execution_count": 19,
     "metadata": {},
     "output_type": "execute_result"
    }
   ],
   "source": [
    "c1 = ShippingContainer('YML', 'Books')\n",
    "c1.owner_code\n",
    "c1.contents"
   ]
  },
  {
   "cell_type": "code",
   "execution_count": 20,
   "metadata": {},
   "outputs": [],
   "source": [
    "class ShippingContainer:\n",
    "    nextSerial = 1337\n",
    "    def __init__(self, owner_code, contents):\n",
    "        self.owner_code = owner_code\n",
    "        self.contents = contents\n",
    "        self.serial = self.nextSerial\n",
    "        self.nextSerial += 1"
   ]
  },
  {
   "cell_type": "code",
   "execution_count": 21,
   "metadata": {},
   "outputs": [
    {
     "data": {
      "text/plain": [
       "1337"
      ]
     },
     "execution_count": 21,
     "metadata": {},
     "output_type": "execute_result"
    }
   ],
   "source": [
    "c2 = ShippingContainer('ESC', 'Books')\n",
    "c2.serial"
   ]
  },
  {
   "cell_type": "code",
   "execution_count": 24,
   "metadata": {},
   "outputs": [],
   "source": [
    "# Static Method\n",
    "class ShippingContainer:\n",
    "    nextSerial = 1337\n",
    "    \n",
    "    @staticmethod\n",
    "    def _get_nextSerial():\n",
    "        result = ShippingContainer.nextSerial\n",
    "        ShippingContainer.nextSerial += 1\n",
    "        return result\n",
    "        \n",
    "    def __init__(self, owner_code, contents):\n",
    "        self.owner_code = owner_code\n",
    "        self.contents = contents\n",
    "        self.serial = ShippingContainer._get_nextSerial()"
   ]
  },
  {
   "cell_type": "code",
   "execution_count": 25,
   "metadata": {},
   "outputs": [
    {
     "data": {
      "text/plain": [
       "1337"
      ]
     },
     "execution_count": 25,
     "metadata": {},
     "output_type": "execute_result"
    }
   ],
   "source": [
    "c3 = ShippingContainer('ESC', 'Books')\n",
    "c3.serial"
   ]
  },
  {
   "cell_type": "code",
   "execution_count": null,
   "metadata": {},
   "outputs": [],
   "source": [
    "#Class method\n",
    "class ShippingContainer:\n",
    "    nextSerial = 1337\n",
    "    \n",
    "    @classmethod\n",
    "    def _get_nextSerial():\n",
    "        result = cls.nextSerial\n",
    "        cls.nextSerial += 1\n",
    "        return result\n",
    "        \n",
    "    def __init__(self, owner_code, contents):\n",
    "        self.owner_code = owner_code\n",
    "        self.contents = contents\n",
    "        self.serial = ShippingContainer._get_nextSerial()"
   ]
  }
 ],
 "metadata": {
  "kernelspec": {
   "display_name": "Python 2",
   "language": "python",
   "name": "python2"
  },
  "language_info": {
   "codemirror_mode": {
    "name": "ipython",
    "version": 2
   },
   "file_extension": ".py",
   "mimetype": "text/x-python",
   "name": "python",
   "nbconvert_exporter": "python",
   "pygments_lexer": "ipython2",
   "version": "2.7.12"
  }
 },
 "nbformat": 4,
 "nbformat_minor": 2
}
