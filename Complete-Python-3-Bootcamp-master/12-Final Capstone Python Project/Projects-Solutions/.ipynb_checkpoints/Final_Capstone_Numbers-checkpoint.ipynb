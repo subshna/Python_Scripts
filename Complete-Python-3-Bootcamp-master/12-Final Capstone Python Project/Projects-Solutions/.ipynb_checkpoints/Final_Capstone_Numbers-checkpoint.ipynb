{
 "cells": [
  {
   "cell_type": "markdown",
   "metadata": {},
   "source": [
    "# Find PI to the Nth Digit "
   ]
  },
  {
   "cell_type": "markdown",
   "metadata": {},
   "source": [
    "### Enter a number and have the program generate π (pi) up to that many decimal places. Keep a limit to how far the program will go."
   ]
  },
  {
   "cell_type": "code",
   "execution_count": 1,
   "metadata": {},
   "outputs": [],
   "source": [
    "def pi_nth_digit(n=1):\n",
    "    if n <= 50:\n",
    "        f='{:.'+str(n)+'f}'\n",
    "        print ('pi= '+ f.format(22.0/7.0))\n",
    "    else:\n",
    "        print('Please input range within 50')"
   ]
  },
  {
   "cell_type": "code",
   "execution_count": 2,
   "metadata": {},
   "outputs": [
    {
     "name": "stdout",
     "output_type": "stream",
     "text": [
      "pi= 3.14285714285714279370154144999105483293533325195312\n"
     ]
    }
   ],
   "source": [
    "pi_nth_digit(50)"
   ]
  },
  {
   "cell_type": "markdown",
   "metadata": {},
   "source": [
    "# Find e to the Nth Digit"
   ]
  },
  {
   "cell_type": "markdown",
   "metadata": {},
   "source": [
    "### Just like the previous problem, but with e instead of π (pi). Enter a number and have the program generate e up to that many decimal places. Keep a limit to how far the program will go"
   ]
  },
  {
   "cell_type": "code",
   "execution_count": 4,
   "metadata": {},
   "outputs": [],
   "source": [
    "import math\n",
    "def e_nth_digit(n=1):\n",
    "    if n <= 50:\n",
    "        f='{:.'+str(n)+'f}'\n",
    "        print ('e= '+ f.format(math.e))\n",
    "    else:\n",
    "        print('Please input range within 50')"
   ]
  },
  {
   "cell_type": "code",
   "execution_count": 5,
   "metadata": {},
   "outputs": [
    {
     "name": "stdout",
     "output_type": "stream",
     "text": [
      "e= 2.71828182845904509079559829842764884233474731445312\n"
     ]
    }
   ],
   "source": [
    "e_nth_digit(50)"
   ]
  },
  {
   "cell_type": "markdown",
   "metadata": {},
   "source": [
    "# Fibonacci Sequence"
   ]
  },
  {
   "cell_type": "markdown",
   "metadata": {},
   "source": [
    "### Enter a number and have the program generate the Fibonacci sequence to that number or to the Nth number."
   ]
  },
  {
   "cell_type": "code",
   "execution_count": 6,
   "metadata": {},
   "outputs": [],
   "source": [
    "def fibonacci(num):\n",
    "    a = 1; b = 1\n",
    "    for i in range(num):\n",
    "        yield a\n",
    "        a, b = b, a+b"
   ]
  },
  {
   "cell_type": "code",
   "execution_count": 7,
   "metadata": {},
   "outputs": [
    {
     "name": "stdout",
     "output_type": "stream",
     "text": [
      "1\n",
      "1\n",
      "2\n",
      "3\n",
      "5\n",
      "8\n",
      "13\n",
      "21\n",
      "34\n",
      "55\n"
     ]
    }
   ],
   "source": [
    "for seq in fibonacci(10):\n",
    "    print (seq)"
   ]
  },
  {
   "cell_type": "markdown",
   "metadata": {},
   "source": [
    "# Prime Factorization"
   ]
  },
  {
   "cell_type": "markdown",
   "metadata": {},
   "source": [
    "### Have the user enter a number and find all Prime Factors (if there are any) and display them."
   ]
  },
  {
   "cell_type": "code",
   "execution_count": 1,
   "metadata": {},
   "outputs": [],
   "source": [
    "def prime_factor(num):\n",
    "        for i in range(1, num):\n",
    "            #print ('i values is {}'.format(i))\n",
    "            if num > 1:\n",
    "                for j in range(2, i):\n",
    "                    if (i%j == 0):\n",
    "                        print('Not Prime Number')\n",
    "                        break\n",
    "                else:\n",
    "                    print(i)"
   ]
  },
  {
   "cell_type": "code",
   "execution_count": 122,
   "metadata": {},
   "outputs": [
    {
     "name": "stdout",
     "output_type": "stream",
     "text": [
      "1\n",
      "2\n",
      "3\n",
      "Not Prime Number\n",
      "5\n",
      "Not Prime Number\n",
      "7\n",
      "Not Prime Number\n",
      "Not Prime Number\n"
     ]
    }
   ],
   "source": [
    "prime_factor(10)"
   ]
  },
  {
   "cell_type": "markdown",
   "metadata": {},
   "source": [
    "# Next Prime Number"
   ]
  },
  {
   "cell_type": "markdown",
   "metadata": {},
   "source": [
    "### Have the program find prime numbers until the user chooses to stop asking for the next one"
   ]
  },
  {
   "cell_type": "code",
   "execution_count": 6,
   "metadata": {},
   "outputs": [
    {
     "name": "stdout",
     "output_type": "stream",
     "text": [
      "Enter the Number: 5\n",
      "5 a Prime Number\n",
      "Do you wnat to find the Next number? Yes or No?yes\n",
      "Enter the Number: 9\n",
      "9 Not a Prime Number\n",
      "Do you wnat to find the Next number? Yes or No?yes\n",
      "Enter the Number: 186749\n",
      "186749 Not a Prime Number\n",
      "Do you wnat to find the Next number? Yes or No?no\n"
     ]
    }
   ],
   "source": [
    "status = True\n",
    "while status:\n",
    "    num = input('Enter the Number: ')\n",
    "    if  num > 1:\n",
    "        for x in range(2, num):\n",
    "            if (num%x == 0):\n",
    "                print('{} Not a Prime Number'.format(num))\n",
    "                break\n",
    "            \n",
    "        else:\n",
    "            print('{} a Prime Number'.format(num))\n",
    "    next_one = raw_input('Do you wnat to find the Next Prime number? Yes or No?')\n",
    "    if next_one.upper() == 'YES':\n",
    "        status = True\n",
    "    else:\n",
    "        status = False"
   ]
  },
  {
   "cell_type": "markdown",
   "metadata": {},
   "source": [
    "# Find Cost of Tile to Cover W x H Floor\n",
    "### Calculate the total cost of tile it would take to cover a floor plan of width and height, using a cost entered by the user."
   ]
  },
  {
   "cell_type": "code",
   "execution_count": 1,
   "metadata": {},
   "outputs": [],
   "source": [
    "def tile_cost():\n",
    "    width, height, cost = input('Enter the width : '), input('Enter the height : '), input('Enter the Cost: ')\n",
    "    total_cost = (width * height) * cost\n",
    "    return total_cost"
   ]
  },
  {
   "cell_type": "code",
   "execution_count": 3,
   "metadata": {},
   "outputs": [
    {
     "name": "stdout",
     "output_type": "stream",
     "text": [
      "Enter the width : 10\n",
      "Enter the height : 20\n",
      "Enter the Cost: 100\n"
     ]
    },
    {
     "data": {
      "text/plain": [
       "20000"
      ]
     },
     "execution_count": 3,
     "metadata": {},
     "output_type": "execute_result"
    }
   ],
   "source": [
    "tile_cost()"
   ]
  },
  {
   "cell_type": "markdown",
   "metadata": {},
   "source": [
    "# Mortgage Calculator\n",
    "### Calculate the monthly payments of a fixed term mortgage over given Nth terms at a given interest rate."
   ]
  },
  {
   "cell_type": "code",
   "execution_count": 25,
   "metadata": {},
   "outputs": [],
   "source": [
    "from math import pow\n",
    "\n",
    "def mortgage_calculator(loan_amount, no_of_years):\n",
    "    interest_rate = (8.0/100) / 12.0\n",
    "    no_of_months = no_of_years * 12.0\n",
    "    payment = loan_amount * ((interest_rate * (pow((1 + interest_rate), no_of_months))) / (pow((1 + interest_rate), no_of_months) - 1))\n",
    "    return payment"
   ]
  },
  {
   "cell_type": "code",
   "execution_count": 26,
   "metadata": {},
   "outputs": [
    {
     "data": {
      "text/plain": [
       "19113.04168660713"
      ]
     },
     "execution_count": 26,
     "metadata": {},
     "output_type": "execute_result"
    }
   ],
   "source": [
    "mortgage_calculator(2000000, 15)"
   ]
  },
  {
   "cell_type": "markdown",
   "metadata": {},
   "source": [
    "# Change Return Program\n",
    "### The user enters a cost and then the amount of money given. The program will figure out the change and the number of quarters, dimes, nickels, pennies needed for the change."
   ]
  },
  {
   "cell_type": "code",
   "execution_count": 35,
   "metadata": {},
   "outputs": [],
   "source": [
    "def change_return(cost, amount_given):\n",
    "    change = cost - amount_given\n",
    "    pennies = int(change * 100)\n",
    "    quarter = int(pennies / 25)\n",
    "    pennies -= quarter * 25\n",
    "    dimes = int(pennies / 10)\n",
    "    pennies -= dimes * 10\n",
    "    nickels = int(pennies / 5)\n",
    "    pennies -= nickels * 5\n",
    "    print ('Cost = {}\\nAmount Given = {}\\nChange = {}\\nQuarter = {}\\nDimes = {}\\nNickles = {}'.format(cost, amount_given,\n",
    "                                                                                                      change, quarter,\n",
    "                                                                                                      dimes, nickels))"
   ]
  },
  {
   "cell_type": "code",
   "execution_count": 36,
   "metadata": {},
   "outputs": [
    {
     "name": "stdout",
     "output_type": "stream",
     "text": [
      "Cost = 4.95\n",
      "Amount Given = 5\n",
      "Change = -0.05\n",
      "Quarter = -1\n",
      "Dimes = 2\n",
      "Nickles = 0\n"
     ]
    }
   ],
   "source": [
    "change_return(4.95, 5)"
   ]
  },
  {
   "cell_type": "markdown",
   "metadata": {},
   "source": [
    "# Binary to Decimal and Back Converter\n",
    "### Develop a converter to convert a decimal number to binary or a binary number to its decimal equivalent."
   ]
  },
  {
   "cell_type": "code",
   "execution_count": 165,
   "metadata": {},
   "outputs": [],
   "source": [
    "def b2d_back_converter(num):\n",
    "    dec = 0\n",
    "    if (all(n in '01' for n in str(num))):\n",
    "        for i, n in enumerate(str(num)[::-1]):\n",
    "            conv = (int(pow(2, i)) * int(n))\n",
    "            dec += conv\n",
    "        return dec\n",
    "    else:\n",
    "        return bin(num).replace('0b', '')"
   ]
  },
  {
   "cell_type": "code",
   "execution_count": 167,
   "metadata": {},
   "outputs": [
    {
     "data": {
      "text/plain": [
       "16"
      ]
     },
     "execution_count": 167,
     "metadata": {},
     "output_type": "execute_result"
    }
   ],
   "source": [
    "b2d_back_converter(10000)"
   ]
  },
  {
   "cell_type": "markdown",
   "metadata": {},
   "source": [
    "# Reverse the integer"
   ]
  },
  {
   "cell_type": "code",
   "execution_count": 196,
   "metadata": {},
   "outputs": [],
   "source": [
    "def reverse_number(n):\n",
    "    r = 0\n",
    "    while n > 0:\n",
    "        r = r * 10\n",
    "        #print ('intial r={}'.format(r))\n",
    "        r = r + n % 10\n",
    "        #print ('r={}'.format(r))\n",
    "        n = n / 10\n",
    "        #print ('n={}'.format(n))\n",
    "    return r"
   ]
  },
  {
   "cell_type": "code",
   "execution_count": 197,
   "metadata": {},
   "outputs": [
    {
     "data": {
      "text/plain": [
       "357347821"
      ]
     },
     "execution_count": 197,
     "metadata": {},
     "output_type": "execute_result"
    }
   ],
   "source": [
    "reverse_number(128743753)"
   ]
  },
  {
   "cell_type": "markdown",
   "metadata": {},
   "source": [
    "# Calculator\n",
    "### A simple calculator to do basic operators. Make it a scientific calculator for added complexity."
   ]
  },
  {
   "cell_type": "code",
   "execution_count": null,
   "metadata": {},
   "outputs": [],
   "source": []
  }
 ],
 "metadata": {
  "kernelspec": {
   "display_name": "Python 2",
   "language": "python",
   "name": "python2"
  },
  "language_info": {
   "codemirror_mode": {
    "name": "ipython",
    "version": 2
   },
   "file_extension": ".py",
   "mimetype": "text/x-python",
   "name": "python",
   "nbconvert_exporter": "python",
   "pygments_lexer": "ipython2",
   "version": "2.7.12"
  }
 },
 "nbformat": 4,
 "nbformat_minor": 2
}
