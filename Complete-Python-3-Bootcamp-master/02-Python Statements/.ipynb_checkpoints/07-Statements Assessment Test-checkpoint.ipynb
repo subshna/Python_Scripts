{
 "cells": [
  {
   "cell_type": "markdown",
   "metadata": {
    "collapsed": true
   },
   "source": [
    "# Statements Assessment Test\n",
    "Let's test your knowledge!"
   ]
  },
  {
   "cell_type": "markdown",
   "metadata": {},
   "source": [
    "_____\n",
    "**Use <code>for</code>, .split(), and <code>if</code> to create a Statement that will print out words that start with 's':**"
   ]
  },
  {
   "cell_type": "code",
   "execution_count": 33,
   "metadata": {},
   "outputs": [],
   "source": [
    "st = 'Sam Print only the words that start with s in this sentence'"
   ]
  },
  {
   "cell_type": "code",
   "execution_count": 34,
   "metadata": {},
   "outputs": [
    {
     "name": "stdout",
     "output_type": "stream",
     "text": [
      "start\n",
      "s\n",
      "sentence\n"
     ]
    }
   ],
   "source": [
    "#Code here\n",
    "for word in st.split():\n",
    "    if word.startswith('s'):\n",
    "        print(word)"
   ]
  },
  {
   "cell_type": "code",
   "execution_count": 35,
   "metadata": {},
   "outputs": [
    {
     "name": "stdout",
     "output_type": "stream",
     "text": [
      "Sam\n",
      "start\n",
      "s\n",
      "sentence\n"
     ]
    }
   ],
   "source": [
    "for word in st.split():\n",
    "    if word[0].lower() == 's':\n",
    "        print(word)"
   ]
  },
  {
   "cell_type": "markdown",
   "metadata": {},
   "source": [
    "______\n",
    "**Use range() to print all the even numbers from 0 to 10.**"
   ]
  },
  {
   "cell_type": "code",
   "execution_count": 5,
   "metadata": {},
   "outputs": [
    {
     "data": {
      "text/plain": [
       "[0, 2, 4, 6, 8, 10]"
      ]
     },
     "execution_count": 5,
     "metadata": {},
     "output_type": "execute_result"
    }
   ],
   "source": [
    "#Code Here\n",
    "list(range(0, 11, 2))"
   ]
  },
  {
   "cell_type": "code",
   "execution_count": 36,
   "metadata": {},
   "outputs": [
    {
     "name": "stdout",
     "output_type": "stream",
     "text": [
      "0\n",
      "2\n",
      "4\n",
      "6\n",
      "8\n",
      "10\n"
     ]
    }
   ],
   "source": [
    "for num in range(0, 11, 2):\n",
    "    print (num)"
   ]
  },
  {
   "cell_type": "markdown",
   "metadata": {},
   "source": [
    "___\n",
    "**Use a List Comprehension to create a list of all numbers between 1 and 50 that are divisible by 3.**"
   ]
  },
  {
   "cell_type": "code",
   "execution_count": 37,
   "metadata": {},
   "outputs": [
    {
     "data": {
      "text/plain": [
       "[3, 6, 9, 12, 15, 18, 21, 24, 27, 30, 33, 36, 39, 42, 45, 48]"
      ]
     },
     "execution_count": 37,
     "metadata": {},
     "output_type": "execute_result"
    }
   ],
   "source": [
    "#Code in this cell\n",
    "[x for x in range(1, 51) if x%3 == 0]"
   ]
  },
  {
   "cell_type": "markdown",
   "metadata": {},
   "source": [
    "_____\n",
    "**Go through the string below and if the length of a word is even print \"even!\"**"
   ]
  },
  {
   "cell_type": "code",
   "execution_count": null,
   "metadata": {},
   "outputs": [],
   "source": [
    "st = 'Print every word in this sentence that has an even number of letters'"
   ]
  },
  {
   "cell_type": "code",
   "execution_count": 13,
   "metadata": {},
   "outputs": [
    {
     "name": "stdout",
     "output_type": "stream",
     "text": [
      "only : even\n",
      "that : even\n",
      "with : even\n",
      "in : even\n",
      "this : even\n",
      "sentence : even\n"
     ]
    }
   ],
   "source": [
    "#Code in this cell\n",
    "st_split = st.split(' ')\n",
    "for words in st_split:\n",
    "    if len(words) % 2 == 0:\n",
    "        print ('{} : even'.format(words))"
   ]
  },
  {
   "cell_type": "markdown",
   "metadata": {},
   "source": [
    "____\n",
    "**Write a program that prints the integers from 1 to 100. But for multiples of three print \"Fizz\" instead of the number, and for the multiples of five print \"Buzz\". For numbers which are multiples of both three and five print \"FizzBuzz\".**"
   ]
  },
  {
   "cell_type": "code",
   "execution_count": 17,
   "metadata": {},
   "outputs": [
    {
     "name": "stdout",
     "output_type": "stream",
     "text": [
      "3: Fizz\n",
      "5: Buzz\n",
      "6: Fizz\n",
      "9: Fizz\n",
      "10: Buzz\n",
      "12: Fizz\n",
      "15: FizzBuzz\n",
      "18: Fizz\n",
      "20: Buzz\n",
      "21: Fizz\n",
      "24: Fizz\n",
      "25: Buzz\n",
      "27: Fizz\n",
      "30: FizzBuzz\n",
      "33: Fizz\n",
      "35: Buzz\n",
      "36: Fizz\n",
      "39: Fizz\n",
      "40: Buzz\n",
      "42: Fizz\n",
      "45: FizzBuzz\n",
      "48: Fizz\n",
      "50: Buzz\n",
      "51: Fizz\n",
      "54: Fizz\n",
      "55: Buzz\n",
      "57: Fizz\n",
      "60: FizzBuzz\n",
      "63: Fizz\n",
      "65: Buzz\n",
      "66: Fizz\n",
      "69: Fizz\n",
      "70: Buzz\n",
      "72: Fizz\n",
      "75: FizzBuzz\n",
      "78: Fizz\n",
      "80: Buzz\n",
      "81: Fizz\n",
      "84: Fizz\n",
      "85: Buzz\n",
      "87: Fizz\n",
      "90: FizzBuzz\n",
      "93: Fizz\n",
      "95: Buzz\n",
      "96: Fizz\n",
      "99: Fizz\n"
     ]
    }
   ],
   "source": [
    "#Code in this cell\n",
    "for num in range(1, 100):\n",
    "    if num % 3 ==0 and num % 5 == 0:\n",
    "        print('{}: FizzBuzz'.format(num))\n",
    "    elif num % 3 == 0:\n",
    "        print('{}: Fizz'.format(num))\n",
    "    elif num % 5 == 0:\n",
    "        print('{}: Buzz'.format(num))"
   ]
  },
  {
   "cell_type": "markdown",
   "metadata": {},
   "source": [
    "____\n",
    "**Use List Comprehension to create a list of the first letters of every word in the string below:**"
   ]
  },
  {
   "cell_type": "code",
   "execution_count": null,
   "metadata": {},
   "outputs": [],
   "source": [
    "st = 'Create a list of the first letters of every word in this string'"
   ]
  },
  {
   "cell_type": "code",
   "execution_count": 22,
   "metadata": {},
   "outputs": [
    {
     "data": {
      "text/plain": [
       "['Pri', 'onl', 'the', 'wor', 'tha', 'sta', 'wit', 's', 'in', 'thi', 'sen']"
      ]
     },
     "execution_count": 22,
     "metadata": {},
     "output_type": "execute_result"
    }
   ],
   "source": [
    "#Code in this cell\n",
    "[words[0:3] for words in st.split(' ')]"
   ]
  },
  {
   "cell_type": "markdown",
   "metadata": {},
   "source": [
    "### Great Job!"
   ]
  }
 ],
 "metadata": {
  "kernelspec": {
   "display_name": "Python 2",
   "language": "python",
   "name": "python2"
  },
  "language_info": {
   "codemirror_mode": {
    "name": "ipython",
    "version": 2
   },
   "file_extension": ".py",
   "mimetype": "text/x-python",
   "name": "python",
   "nbconvert_exporter": "python",
   "pygments_lexer": "ipython2",
   "version": "2.7.12"
  }
 },
 "nbformat": 4,
 "nbformat_minor": 1
}
